{
 "cells": [
  {
   "cell_type": "code",
   "execution_count": 8,
   "id": "69d6f74a",
   "metadata": {},
   "outputs": [],
   "source": [
    "import os\n",
    "import sys\n",
    "import argparse\n",
    "import getpass\n",
    "from twitter_scraper import Twitter_Scraper"
   ]
  },
  {
   "cell_type": "code",
   "execution_count": 9,
   "id": "be538bea",
   "metadata": {},
   "outputs": [
    {
     "name": "stdout",
     "output_type": "stream",
     "text": [
      "Loading .env file\n",
      "Loaded .env file\n",
      "\n"
     ]
    }
   ],
   "source": [
    "try:\n",
    "    from dotenv import load_dotenv\n",
    "\n",
    "    print(\"Loading .env file\")\n",
    "    load_dotenv()\n",
    "    print(\"Loaded .env file\\n\")\n",
    "except Exception as e:\n",
    "    print(f\"Error loading .env file: {e}\")\n",
    "    sys.exit(1)\n",
    "\n",
    "# access\n",
    "USER_UNAME = os.getenv(\"TWITTER_USERNAME\")\n",
    "USER_PASSWORD = os.getenv(\"TWITTER_PASSWORD\")\n",
    "HEADLESS_MODE = os.getenv(\"HEADLESS_MODE\", \"True\").lower() in (\"true\", \"1\", \"t\", \"yes\")\n"
   ]
  },
  {
   "cell_type": "code",
   "execution_count": null,
   "id": "4495c4c8",
   "metadata": {},
   "outputs": [],
   "source": [
    "scraper = Twitter_Scraper(\n",
    "                mail=USER_UNAME,\n",
    "                username=USER_UNAME,\n",
    "                password=USER_PASSWORD,\n",
    "                headlessState=HEADLESS_MODE\n",
    "            )\n",
    "scraper.login()\n",
    "scraper.scrape_tweets(\n",
    "    max_tweets=1000,\n",
    "    # scrape_username=\"something\",\n",
    "    # scrape_hashtag=\"#\",\n",
    "    scrape_query=\"halalan2025 until:2025-05-10\",\n",
    "    scrape_latest=False,\n",
    "    scrape_top=True,\n",
    "    scrape_poster_details=True,\n",
    "\n",
    ")\n",
    "scraper.save_to_csv()\n",
    "if not scraper.interrupted:\n",
    "    scraper.driver.close()"
   ]
  }
 ],
 "metadata": {
  "kernelspec": {
   "display_name": "Python 3",
   "language": "python",
   "name": "python3"
  },
  "language_info": {
   "codemirror_mode": {
    "name": "ipython",
    "version": 3
   },
   "file_extension": ".py",
   "mimetype": "text/x-python",
   "name": "python",
   "nbconvert_exporter": "python",
   "pygments_lexer": "ipython3",
   "version": "3.13.5"
  }
 },
 "nbformat": 4,
 "nbformat_minor": 5
}
